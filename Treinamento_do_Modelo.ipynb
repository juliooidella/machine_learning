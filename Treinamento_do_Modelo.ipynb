{
  "nbformat": 4,
  "nbformat_minor": 0,
  "metadata": {
    "colab": {
      "provenance": []
    },
    "kernelspec": {
      "name": "python3",
      "display_name": "Python 3"
    },
    "language_info": {
      "name": "python"
    }
  },
  "cells": [
    {
      "cell_type": "code",
      "source": [
        "!pip install unidecode"
      ],
      "metadata": {
        "colab": {
          "base_uri": "https://localhost:8080/",
          "height": 0
        },
        "id": "49U-zHSwtHVu",
        "outputId": "97b931e0-e51e-4ea1-aabc-d2593256f7eb"
      },
      "execution_count": 25,
      "outputs": [
        {
          "output_type": "stream",
          "name": "stdout",
          "text": [
            "Collecting unidecode\n",
            "  Downloading Unidecode-1.3.6-py3-none-any.whl (235 kB)\n",
            "\u001b[?25l     \u001b[90m━━━━━━━━━━━━━━━━━━━━━━━━━━━━━━━━━━━━━━━━\u001b[0m \u001b[32m0.0/235.9 kB\u001b[0m \u001b[31m?\u001b[0m eta \u001b[36m-:--:--\u001b[0m\r\u001b[2K     \u001b[90m━━━━━━━━━━━━━━━━━━━━━━━━━━━━━━━━━━━━━━━\u001b[0m \u001b[32m235.9/235.9 kB\u001b[0m \u001b[31m7.1 MB/s\u001b[0m eta \u001b[36m0:00:00\u001b[0m\n",
            "\u001b[?25hInstalling collected packages: unidecode\n",
            "Successfully installed unidecode-1.3.6\n"
          ]
        }
      ]
    },
    {
      "cell_type": "code",
      "execution_count": 26,
      "metadata": {
        "id": "AW1xS0CjUzmN",
        "colab": {
          "base_uri": "https://localhost:8080/",
          "height": 0
        },
        "outputId": "39208a21-f600-4190-cafa-3fd485ed18e6"
      },
      "outputs": [
        {
          "output_type": "stream",
          "name": "stderr",
          "text": [
            "[nltk_data] Downloading package punkt to /root/nltk_data...\n",
            "[nltk_data]   Package punkt is already up-to-date!\n",
            "[nltk_data] Downloading package stopwords to /root/nltk_data...\n",
            "[nltk_data]   Package stopwords is already up-to-date!\n",
            "[nltk_data] Downloading package rslp to /root/nltk_data...\n",
            "[nltk_data]   Package rslp is already up-to-date!\n"
          ]
        },
        {
          "output_type": "execute_result",
          "data": {
            "text/plain": [
              "True"
            ]
          },
          "metadata": {},
          "execution_count": 26
        }
      ],
      "source": [
        "import pandas as pd\n",
        "import pickle\n",
        "import re\n",
        "from nltk.corpus import stopwords\n",
        "from sklearn.feature_extraction.text import CountVectorizer\n",
        "from sklearn.naive_bayes import MultinomialNB\n",
        "from sklearn.pipeline import Pipeline\n",
        "import nltk\n",
        "from unidecode import unidecode\n",
        "\n",
        "# Antes de executar esse código, baixe os recursos do NLTK executando:\n",
        "nltk.download('punkt')\n",
        "nltk.download('stopwords')\n",
        "nltk.download('rslp')"
      ]
    },
    {
      "cell_type": "code",
      "source": [
        "import pandas as pd\n",
        "from sklearn.utils import resample\n",
        "\n",
        "# Carregando os dados do CSV\n",
        "dados1 = pd.read_csv('Construshow-Normalizados.csv')\n",
        "dados = dados1[dados1['label'] != '']\n",
        "\n",
        "#classe_majoritaria = dados[dados['label'] == 'PSGerencial']\n",
        "\n",
        "# Lista com todas as classes únicas no target\n",
        "#classes_unicas = dados['label'].unique()\n",
        "\n",
        "# Lista para armazenar as classes oversampled\n",
        "#classes_oversampled = []\n",
        "\n",
        "# Aplicando oversampling para cada classe\n",
        "'''for classe in classes_unicas:\n",
        "    classe_dados = dados[dados['label'] == classe]\n",
        "    classe_oversampled = resample(classe_dados,\n",
        "                                  replace=True,  # Permitir duplicatas\n",
        "                                  n_samples=50,  # Igualar ao tamanho da classe majoritária\n",
        "                                  random_state=42)  # Reprodutibilidade\n",
        "    classes_oversampled.append(classe_oversampled)\n",
        "\n",
        "# Concatenando as classes oversampled\n",
        "dados_oversampled = pd.concat(classes_oversampled)\n",
        "\n",
        "# Exibindo o dataset resultante após o oversampling\n",
        "print(dados_oversampled['label'].value_counts())'''"
      ],
      "metadata": {
        "colab": {
          "base_uri": "https://localhost:8080/",
          "height": 87
        },
        "id": "8MemZNRvU2NC",
        "outputId": "d1247de2-62f1-4d47-bdac-c67c21842e01"
      },
      "execution_count": 2,
      "outputs": [
        {
          "output_type": "execute_result",
          "data": {
            "text/plain": [
              "\"for classe in classes_unicas:\\n    classe_dados = dados[dados['label'] == classe]\\n    classe_oversampled = resample(classe_dados,\\n                                  replace=True,  # Permitir duplicatas\\n                                  n_samples=50,  # Igualar ao tamanho da classe majoritária\\n                                  random_state=42)  # Reprodutibilidade\\n    classes_oversampled.append(classe_oversampled)\\n\\n# Concatenando as classes oversampled\\ndados_oversampled = pd.concat(classes_oversampled)\\n\\n# Exibindo o dataset resultante após o oversampling\\nprint(dados_oversampled['label'].value_counts())\""
            ],
            "application/vnd.google.colaboratory.intrinsic+json": {
              "type": "string"
            }
          },
          "metadata": {},
          "execution_count": 2
        }
      ]
    },
    {
      "cell_type": "code",
      "source": [
        "#dados_oversampled.to_csv('reduzido.csv')"
      ],
      "metadata": {
        "id": "kcbVZzXyVCzx"
      },
      "execution_count": 3,
      "outputs": []
    },
    {
      "cell_type": "code",
      "source": [
        "dados.dropna(subset=['label'])\n",
        "print(dados['label'].value_counts())"
      ],
      "metadata": {
        "colab": {
          "base_uri": "https://localhost:8080/",
          "height": 0
        },
        "id": "BZjFL4sIVEhR",
        "outputId": "b2ded771-ddce-490d-b145-0b7d04ef2508"
      },
      "execution_count": 4,
      "outputs": [
        {
          "output_type": "stream",
          "name": "stdout",
          "text": [
            "Infra                           191\n",
            "Oracle Cloud                    177\n",
            "Expedição                       177\n",
            "Precificação/Tabela de Preço    166\n",
            "Custo Médio/Aquisição           165\n",
            "                               ... \n",
            "Roteiro de Logistica            108\n",
            "Central de agendamento           96\n",
            "Integração Forlog                96\n",
            "Nota de Despesa                   1\n",
            "Devolução de venda                1\n",
            "Name: label, Length: 74, dtype: int64\n"
          ]
        }
      ]
    },
    {
      "cell_type": "code",
      "source": [
        "#carregar planilha de tickets pré-classificados\n",
        "#tickets = pd.read_csv(\"PetroShow.csv\")\n",
        "principais_colunas = ['text','label']\n",
        "data = dados[principais_colunas]\n",
        "\n",
        "data['Desc_Assunto'] = data['text']\n",
        "data.dropna()"
      ],
      "metadata": {
        "id": "_A1B1nzUVF2Z",
        "colab": {
          "base_uri": "https://localhost:8080/",
          "height": 424
        },
        "outputId": "1bfc8574-53d9-4a84-cf52-d27aa1eeb12f"
      },
      "execution_count": 5,
      "outputs": [
        {
          "output_type": "execute_result",
          "data": {
            "text/plain": [
              "                                                    text               label  \\\n",
              "0      boa tarde, tudo bem preço offline não está atu...      Preço off-line   \n",
              "1      boa tarde, tudo bem preço offline não está atu...      Preço off-line   \n",
              "2      boa tarde, tudo bem preço offline não está atu...      Preço off-line   \n",
              "3      boa tarde, tudo bem preço offline não está atu...      Preço off-line   \n",
              "4      boa tarde, tudo bem preço offline não está atu...      Preço off-line   \n",
              "...                                                  ...                 ...   \n",
              "10692  incluir caixa de aviso, que há operação sem sa...          Financeiro   \n",
              "10693  sistema caindo a conexão oi, boa tarde estamos...               Infra   \n",
              "10694  reabrir chamado 479423 bom dia preciso reabiri...       Mobile Vendas   \n",
              "10695  devolução cancelou cartao da compra foi realiz...  Devolução de venda   \n",
              "10696                         sistema nao esta iniciando               Infra   \n",
              "\n",
              "                                            Desc_Assunto  \n",
              "0      boa tarde, tudo bem preço offline não está atu...  \n",
              "1      boa tarde, tudo bem preço offline não está atu...  \n",
              "2      boa tarde, tudo bem preço offline não está atu...  \n",
              "3      boa tarde, tudo bem preço offline não está atu...  \n",
              "4      boa tarde, tudo bem preço offline não está atu...  \n",
              "...                                                  ...  \n",
              "10692  incluir caixa de aviso, que há operação sem sa...  \n",
              "10693  sistema caindo a conexão oi, boa tarde estamos...  \n",
              "10694  reabrir chamado 479423 bom dia preciso reabiri...  \n",
              "10695  devolução cancelou cartao da compra foi realiz...  \n",
              "10696                         sistema nao esta iniciando  \n",
              "\n",
              "[10697 rows x 3 columns]"
            ],
            "text/html": [
              "\n",
              "\n",
              "  <div id=\"df-0d48c131-d972-4715-a7e8-8cba90db5e39\">\n",
              "    <div class=\"colab-df-container\">\n",
              "      <div>\n",
              "<style scoped>\n",
              "    .dataframe tbody tr th:only-of-type {\n",
              "        vertical-align: middle;\n",
              "    }\n",
              "\n",
              "    .dataframe tbody tr th {\n",
              "        vertical-align: top;\n",
              "    }\n",
              "\n",
              "    .dataframe thead th {\n",
              "        text-align: right;\n",
              "    }\n",
              "</style>\n",
              "<table border=\"1\" class=\"dataframe\">\n",
              "  <thead>\n",
              "    <tr style=\"text-align: right;\">\n",
              "      <th></th>\n",
              "      <th>text</th>\n",
              "      <th>label</th>\n",
              "      <th>Desc_Assunto</th>\n",
              "    </tr>\n",
              "  </thead>\n",
              "  <tbody>\n",
              "    <tr>\n",
              "      <th>0</th>\n",
              "      <td>boa tarde, tudo bem preço offline não está atu...</td>\n",
              "      <td>Preço off-line</td>\n",
              "      <td>boa tarde, tudo bem preço offline não está atu...</td>\n",
              "    </tr>\n",
              "    <tr>\n",
              "      <th>1</th>\n",
              "      <td>boa tarde, tudo bem preço offline não está atu...</td>\n",
              "      <td>Preço off-line</td>\n",
              "      <td>boa tarde, tudo bem preço offline não está atu...</td>\n",
              "    </tr>\n",
              "    <tr>\n",
              "      <th>2</th>\n",
              "      <td>boa tarde, tudo bem preço offline não está atu...</td>\n",
              "      <td>Preço off-line</td>\n",
              "      <td>boa tarde, tudo bem preço offline não está atu...</td>\n",
              "    </tr>\n",
              "    <tr>\n",
              "      <th>3</th>\n",
              "      <td>boa tarde, tudo bem preço offline não está atu...</td>\n",
              "      <td>Preço off-line</td>\n",
              "      <td>boa tarde, tudo bem preço offline não está atu...</td>\n",
              "    </tr>\n",
              "    <tr>\n",
              "      <th>4</th>\n",
              "      <td>boa tarde, tudo bem preço offline não está atu...</td>\n",
              "      <td>Preço off-line</td>\n",
              "      <td>boa tarde, tudo bem preço offline não está atu...</td>\n",
              "    </tr>\n",
              "    <tr>\n",
              "      <th>...</th>\n",
              "      <td>...</td>\n",
              "      <td>...</td>\n",
              "      <td>...</td>\n",
              "    </tr>\n",
              "    <tr>\n",
              "      <th>10692</th>\n",
              "      <td>incluir caixa de aviso, que há operação sem sa...</td>\n",
              "      <td>Financeiro</td>\n",
              "      <td>incluir caixa de aviso, que há operação sem sa...</td>\n",
              "    </tr>\n",
              "    <tr>\n",
              "      <th>10693</th>\n",
              "      <td>sistema caindo a conexão oi, boa tarde estamos...</td>\n",
              "      <td>Infra</td>\n",
              "      <td>sistema caindo a conexão oi, boa tarde estamos...</td>\n",
              "    </tr>\n",
              "    <tr>\n",
              "      <th>10694</th>\n",
              "      <td>reabrir chamado 479423 bom dia preciso reabiri...</td>\n",
              "      <td>Mobile Vendas</td>\n",
              "      <td>reabrir chamado 479423 bom dia preciso reabiri...</td>\n",
              "    </tr>\n",
              "    <tr>\n",
              "      <th>10695</th>\n",
              "      <td>devolução cancelou cartao da compra foi realiz...</td>\n",
              "      <td>Devolução de venda</td>\n",
              "      <td>devolução cancelou cartao da compra foi realiz...</td>\n",
              "    </tr>\n",
              "    <tr>\n",
              "      <th>10696</th>\n",
              "      <td>sistema nao esta iniciando</td>\n",
              "      <td>Infra</td>\n",
              "      <td>sistema nao esta iniciando</td>\n",
              "    </tr>\n",
              "  </tbody>\n",
              "</table>\n",
              "<p>10697 rows × 3 columns</p>\n",
              "</div>\n",
              "      <button class=\"colab-df-convert\" onclick=\"convertToInteractive('df-0d48c131-d972-4715-a7e8-8cba90db5e39')\"\n",
              "              title=\"Convert this dataframe to an interactive table.\"\n",
              "              style=\"display:none;\">\n",
              "\n",
              "  <svg xmlns=\"http://www.w3.org/2000/svg\" height=\"24px\"viewBox=\"0 0 24 24\"\n",
              "       width=\"24px\">\n",
              "    <path d=\"M0 0h24v24H0V0z\" fill=\"none\"/>\n",
              "    <path d=\"M18.56 5.44l.94 2.06.94-2.06 2.06-.94-2.06-.94-.94-2.06-.94 2.06-2.06.94zm-11 1L8.5 8.5l.94-2.06 2.06-.94-2.06-.94L8.5 2.5l-.94 2.06-2.06.94zm10 10l.94 2.06.94-2.06 2.06-.94-2.06-.94-.94-2.06-.94 2.06-2.06.94z\"/><path d=\"M17.41 7.96l-1.37-1.37c-.4-.4-.92-.59-1.43-.59-.52 0-1.04.2-1.43.59L10.3 9.45l-7.72 7.72c-.78.78-.78 2.05 0 2.83L4 21.41c.39.39.9.59 1.41.59.51 0 1.02-.2 1.41-.59l7.78-7.78 2.81-2.81c.8-.78.8-2.07 0-2.86zM5.41 20L4 18.59l7.72-7.72 1.47 1.35L5.41 20z\"/>\n",
              "  </svg>\n",
              "      </button>\n",
              "\n",
              "\n",
              "\n",
              "    <div id=\"df-923afc75-92c9-431c-985f-836741c946f2\">\n",
              "      <button class=\"colab-df-quickchart\" onclick=\"quickchart('df-923afc75-92c9-431c-985f-836741c946f2')\"\n",
              "              title=\"Suggest charts.\"\n",
              "              style=\"display:none;\">\n",
              "\n",
              "<svg xmlns=\"http://www.w3.org/2000/svg\" height=\"24px\"viewBox=\"0 0 24 24\"\n",
              "     width=\"24px\">\n",
              "    <g>\n",
              "        <path d=\"M19 3H5c-1.1 0-2 .9-2 2v14c0 1.1.9 2 2 2h14c1.1 0 2-.9 2-2V5c0-1.1-.9-2-2-2zM9 17H7v-7h2v7zm4 0h-2V7h2v10zm4 0h-2v-4h2v4z\"/>\n",
              "    </g>\n",
              "</svg>\n",
              "      </button>\n",
              "    </div>\n",
              "\n",
              "<style>\n",
              "  .colab-df-quickchart {\n",
              "    background-color: #E8F0FE;\n",
              "    border: none;\n",
              "    border-radius: 50%;\n",
              "    cursor: pointer;\n",
              "    display: none;\n",
              "    fill: #1967D2;\n",
              "    height: 32px;\n",
              "    padding: 0 0 0 0;\n",
              "    width: 32px;\n",
              "  }\n",
              "\n",
              "  .colab-df-quickchart:hover {\n",
              "    background-color: #E2EBFA;\n",
              "    box-shadow: 0px 1px 2px rgba(60, 64, 67, 0.3), 0px 1px 3px 1px rgba(60, 64, 67, 0.15);\n",
              "    fill: #174EA6;\n",
              "  }\n",
              "\n",
              "  [theme=dark] .colab-df-quickchart {\n",
              "    background-color: #3B4455;\n",
              "    fill: #D2E3FC;\n",
              "  }\n",
              "\n",
              "  [theme=dark] .colab-df-quickchart:hover {\n",
              "    background-color: #434B5C;\n",
              "    box-shadow: 0px 1px 3px 1px rgba(0, 0, 0, 0.15);\n",
              "    filter: drop-shadow(0px 1px 2px rgba(0, 0, 0, 0.3));\n",
              "    fill: #FFFFFF;\n",
              "  }\n",
              "</style>\n",
              "\n",
              "    <script>\n",
              "      async function quickchart(key) {\n",
              "        const containerElement = document.querySelector('#' + key);\n",
              "        const charts = await google.colab.kernel.invokeFunction(\n",
              "            'suggestCharts', [key], {});\n",
              "      }\n",
              "    </script>\n",
              "\n",
              "      <script>\n",
              "\n",
              "function displayQuickchartButton(domScope) {\n",
              "  let quickchartButtonEl =\n",
              "    domScope.querySelector('#df-923afc75-92c9-431c-985f-836741c946f2 button.colab-df-quickchart');\n",
              "  quickchartButtonEl.style.display =\n",
              "    google.colab.kernel.accessAllowed ? 'block' : 'none';\n",
              "}\n",
              "\n",
              "        displayQuickchartButton(document);\n",
              "      </script>\n",
              "      <style>\n",
              "    .colab-df-container {\n",
              "      display:flex;\n",
              "      flex-wrap:wrap;\n",
              "      gap: 12px;\n",
              "    }\n",
              "\n",
              "    .colab-df-convert {\n",
              "      background-color: #E8F0FE;\n",
              "      border: none;\n",
              "      border-radius: 50%;\n",
              "      cursor: pointer;\n",
              "      display: none;\n",
              "      fill: #1967D2;\n",
              "      height: 32px;\n",
              "      padding: 0 0 0 0;\n",
              "      width: 32px;\n",
              "    }\n",
              "\n",
              "    .colab-df-convert:hover {\n",
              "      background-color: #E2EBFA;\n",
              "      box-shadow: 0px 1px 2px rgba(60, 64, 67, 0.3), 0px 1px 3px 1px rgba(60, 64, 67, 0.15);\n",
              "      fill: #174EA6;\n",
              "    }\n",
              "\n",
              "    [theme=dark] .colab-df-convert {\n",
              "      background-color: #3B4455;\n",
              "      fill: #D2E3FC;\n",
              "    }\n",
              "\n",
              "    [theme=dark] .colab-df-convert:hover {\n",
              "      background-color: #434B5C;\n",
              "      box-shadow: 0px 1px 3px 1px rgba(0, 0, 0, 0.15);\n",
              "      filter: drop-shadow(0px 1px 2px rgba(0, 0, 0, 0.3));\n",
              "      fill: #FFFFFF;\n",
              "    }\n",
              "  </style>\n",
              "\n",
              "      <script>\n",
              "        const buttonEl =\n",
              "          document.querySelector('#df-0d48c131-d972-4715-a7e8-8cba90db5e39 button.colab-df-convert');\n",
              "        buttonEl.style.display =\n",
              "          google.colab.kernel.accessAllowed ? 'block' : 'none';\n",
              "\n",
              "        async function convertToInteractive(key) {\n",
              "          const element = document.querySelector('#df-0d48c131-d972-4715-a7e8-8cba90db5e39');\n",
              "          const dataTable =\n",
              "            await google.colab.kernel.invokeFunction('convertToInteractive',\n",
              "                                                     [key], {});\n",
              "          if (!dataTable) return;\n",
              "\n",
              "          const docLinkHtml = 'Like what you see? Visit the ' +\n",
              "            '<a target=\"_blank\" href=https://colab.research.google.com/notebooks/data_table.ipynb>data table notebook</a>'\n",
              "            + ' to learn more about interactive tables.';\n",
              "          element.innerHTML = '';\n",
              "          dataTable['output_type'] = 'display_data';\n",
              "          await google.colab.output.renderOutput(dataTable, element);\n",
              "          const docLink = document.createElement('div');\n",
              "          docLink.innerHTML = docLinkHtml;\n",
              "          element.appendChild(docLink);\n",
              "        }\n",
              "      </script>\n",
              "    </div>\n",
              "  </div>\n"
            ]
          },
          "metadata": {},
          "execution_count": 5
        }
      ]
    },
    {
      "cell_type": "code",
      "source": [
        "custom_stopwords = [ \"ao\", \"a\", \"de\", \"e\", \"um\", \"o\", \"não\", \"esta\", \"tela\", \"boa\", \"tarde\", \"em\", \"anexo\", \"cliente\", \"uma\",\n",
        "            \"com\", \"na\", \"que\", \"esse\", \"problema\", \"segue\", \"para\", \"da\", \"situação\", \"do\", \"preciso\", \"essa\", \"estou\",\n",
        "            \"conseguindo\", \"me\", \"isso\", \"no\", \"onde\", \"qual\", \"está\", \"sendo\", \"ticket\", \"usuários\", \"pois\", \"sem\",\n",
        "            \"por\", \"conforme\", \"favor\", \"pelo\", \"atenciosamente\", \"os\", \"mas\", \"acesso\", \"pra\", \"data\", \"tudo\", \"bem\",\n",
        "            \"estamos\", \"também\", \"caso\", \"fazer\", \"ele\", \"foi\", \"após\", \"nos\", \"dos\", \"campo\", \"aguardo\", \"já\", \"aparece\",\n",
        "            \"este\", \"print\", \"nosso\", \"ou\", \"porém\", \"estão\", \"como\", \"exemplo\", \"temos\", \"bom\", \"dia\", \"seguinte\", \"as\",\n",
        "            \"verificar\", \"precisamos\", \"mesmo\", \"nao\", \"seja\", \"novo\", \"hoje\", \"pode\", \"se\", \"alguns\", \"gostaria\", \"base\",\n",
        "            \"ser\", \"informações\", \"abaixo\", \"mais\", \"quando\", \"tem\", \"ajuda\", \"das\", \"gerar\", \"dados\", \"viasoft\", \"eu\",\n",
        "            \"forma\", \"att\", \"dando\", \"r\", \"urgente\", \"c\", \"código\", \"é\", \"tarde\", \",\", \"também\", \"fica\", \"fazendo\",\n",
        "\t\t\t\"fica\",  \"só\", \"pela\",  \"resolver\",\"dias\", \"estava\",  \"alteração\", \"poderia\", \"consta\", \"informação\", \"referente\", \"foram\", \"contato\", \"ltda\", \"ja\", \"correto\", \"olá\", \"via\",\"todos\", \"são\", \"feita\", \"porque\", \"número\", \"somente\", \"feito\", \"alguma\", \"total\", \"desde\", \"ajuste\",\"tentar\", \"todas\", \"entre\", \"obrigado\", \"valores\",  \"conseguimos\", \"gentileza\", \"alterar\", \"outra\", \"opção\", \"duas\", \"mesma\",  \"aparecendo\", \"ter\", \"seria\",  \"aqui\", \"momento\", \"retorno\", \"saber\", \"nas\", \"será\", \"mês\", \"agora\", \"podem\", \"suporte\", \"criar\",\"consigo\",\"nova\", \"ajustar\", \"realizar\", \"ver\", \"anydesk\", \"algumas\", \"porem\", \"apenas\", \"possível\", \"novamente\", \"ela\", \"assim\", \"dar\",  \"outro\", \"apresenta\",  \"sobre\", \"meu\", \"nome\",  \"algum\", \"auxilio\", \"excluir\", \"antes\", \"ainda\", \"poderiam\", \"hora\",  \"tentando\", \"existe\", \"gerando\", \"descrição\", \"solicito\",  \"aberto\", \"estar\",  \"depois\",  \"f\", \"ajudar\", \"vou\", \"dentro\", \"estab\", \"usuario\", \"até\", \"operação\", \"certo\", \"tenho\", \"pessoal\", \"fazendo\", \"d\", \"b\",\"fica\",\"tipo\",\"fica\",\"ocorre\", \"é\", \"corretamente\",\"nossa\", \"quais\",  \"p\",  \"obrigada\",  \"acontecendo\", \"eles\",\"essas\",\"passo\",  \"clientes\", \"fico\", \"fizemos\", \"obs\", \"outros\", \"chamado\", \"gerado\", \"devido\",  \"agradeço\", \"faz\", \"diferença\", \"dessa\",\"empresa\", \"passar\", \"sei\",  \"desta\", \"podemos\", \"deixar\",  \"lançar\", \"dois\",\"nossos\", \"esses\", \"era\", \"informado\", \"nessa\", \"for\",  \"à\", \"seguintes\",  \"seu\", \"sempre\",  \"estabelecimento\", \"aparecem\", \"há\", \"final\", \"urgência\", \"tendo\", \"analista\",\"filial\", \"incluir\", \"inclusão\", \"consegue\", \"necessário\", \"proceder\", \"identificar\", \"deveria\", \"cadastrar\", \"cada\", \"gera\", \"ontem\", \"padrão\",  \"validar\",  \"semana\",\"continua\", \"módulo\", \"então\", \"vocês\",  \"solução\", \"precisa\", \"vai\", \"teria\", \"muito\", \"tempo\", \"nesse\", \"vamos\", \"neste\",  \"controle\",  \"vezes\", \"nem\",\"solicitar\", \"auxiliar\", \"apresentando\", \"ficou\", \"testes\", \"através\", \"sim\", \"mensagem\", \"puxando\", \"permite\", \"origem\", \"fiz\",  \"desse\", \"acontece\",  \"nº\", \"nós\", \"puxa\", \"correta\", \"entender\", \"possui\", \"realizado\",  \"fui\", \"deu\", \"questão\",\"dúvida\", \"ocorrendo\", \"deve\", \"ocorreu\", \"teste\", \"vários\", \"pessoa\",\"informar\",  \"divergência\",  \"criação\",\"qualquer\", \"consegui\", \"errada\", \"corrigir\", \"poder\",  \"aparecer\", \"kg\", \"saindo\", \"uso\",  \"parte\", \"gerou\", \"funcionando\", \"correção\", \"faço\", \"normal\", \"minha\", \"relação\", \"ai\", \"deste\", \"tivemos\", \"posso\", \"tentei\",  \"quanto\", \"deixa\", \"colocar\", \"mostra\",  \"nenhum\", \"vez\", \"tirar\", \"aos\", \"conseguem\",  \"ordem\", \"exclusão\",  \"errado\", \"prezados\",  \"nada\", \"aba\"]\n",
        "\n",
        "def remover_stopwords(texto):\n",
        "    # Dividir a string em palavras individuais\n",
        "    palavras = texto.split()\n",
        "\n",
        "    # Filtrar as palavras que não são stopwords\n",
        "    palavras_filtradas = [palavra for palavra in palavras if palavra.lower() not in custom_stopwords]\n",
        "\n",
        "    # Reconstituir a string resultante\n",
        "    texto_filtrado = ' '.join(palavras_filtradas)\n",
        "\n",
        "    return texto_filtrado\n",
        "\n",
        "def clean_text(text):\n",
        "    stop_words =  custom_stopwords  # Lista de stopwords em português\n",
        "    #stemmer = RSLPStemmer()  # Lematizador para português\n",
        "    text = unidecode(text)  # Remover acentuação\n",
        "    text = re.sub(r'[^\\w\\s]', ' ', text)  # Remover pontuações e caracteres especiais\n",
        "    words = nltk.word_tokenize(text, language='portuguese')\n",
        "    cleaned_words = [word.lower() for word in words if word.lower() not in stop_words]\n",
        "    return ' '.join(cleaned_words)"
      ],
      "metadata": {
        "id": "j95N01Xyqvna"
      },
      "execution_count": 27,
      "outputs": []
    },
    {
      "cell_type": "code",
      "source": [
        "#Limpeza de dados\n",
        "data['Desc_BKP'] = data['Desc_Assunto']\n",
        "data['Desc_Assunto'] = data['Desc_Assunto'].apply(lambda x: re.sub(r'http\\S+', '', x))\n",
        "punctuation = '!\"#$%&()*+-/:;<=>?@[\\\\]^_`{|}~'\n",
        "data['Desc_Assunto'] = data['Desc_Assunto'].apply(lambda x: ''.join(ch for ch in x if ch not in set(punctuation)))\n",
        "data['Desc_Assunto'] = data['Desc_Assunto'].str.lower()\n",
        "data['Desc_Assunto'] = data['Desc_Assunto'].apply(remover_stopwords)\n",
        "data['Desc_Assunto'] = data['Desc_Assunto'].apply(clean_text)\n",
        "data['Desc_Assunto'] = data['Desc_Assunto'].str.replace(\"[0-9]\", \" \")\n",
        "data['Desc_Assunto'] = data['Desc_Assunto'].apply(lambda x:' '.join(x.split()))\n",
        "data"
      ],
      "metadata": {
        "colab": {
          "base_uri": "https://localhost:8080/",
          "height": 458
        },
        "id": "oBv6_w8zVJYR",
        "outputId": "813f6f2b-93b8-4deb-e2e9-61adb32de43d"
      },
      "execution_count": 28,
      "outputs": [
        {
          "output_type": "stream",
          "name": "stderr",
          "text": [
            "<ipython-input-28-4c99dd5eaabd>:9: FutureWarning: The default value of regex will change from True to False in a future version.\n",
            "  data['Desc_Assunto'] = data['Desc_Assunto'].str.replace(\"[0-9]\", \" \")\n"
          ]
        },
        {
          "output_type": "execute_result",
          "data": {
            "text/plain": [
              "                                                    text               label  \\\n",
              "0      boa tarde, tudo bem preço offline não está atu...      Preço off-line   \n",
              "1      boa tarde, tudo bem preço offline não está atu...      Preço off-line   \n",
              "2      boa tarde, tudo bem preço offline não está atu...      Preço off-line   \n",
              "3      boa tarde, tudo bem preço offline não está atu...      Preço off-line   \n",
              "4      boa tarde, tudo bem preço offline não está atu...      Preço off-line   \n",
              "...                                                  ...                 ...   \n",
              "10692  incluir caixa de aviso, que há operação sem sa...          Financeiro   \n",
              "10693  sistema caindo a conexão oi, boa tarde estamos...               Infra   \n",
              "10694  reabrir chamado 479423 bom dia preciso reabiri...       Mobile Vendas   \n",
              "10695  devolução cancelou cartao da compra foi realiz...  Devolução de venda   \n",
              "10696                         sistema nao esta iniciando               Infra   \n",
              "\n",
              "                                            Desc_Assunto  \\\n",
              "0      preco offline atualizando solicitada remarquei...   \n",
              "1      preco offline atualizando solicitada remarquei...   \n",
              "2      preco offline atualizando solicitada remarquei...   \n",
              "3      preco offline atualizando solicitada remarquei...   \n",
              "4      preco offline atualizando solicitada remarquei...   \n",
              "...                                                  ...   \n",
              "10692  caixa aviso salvar baixa operador feche salvar...   \n",
              "10693  sistema caindo conexao oi problemas conexao ca...   \n",
              "10694  reabrir reabiri verificamos toda infrestutura ...   \n",
              "10695  devolucao cancelou cartao compra devolucao cai...   \n",
              "10696                                  sistema iniciando   \n",
              "\n",
              "                                                Desc_BKP  \n",
              "0      tarde, preço offline atualizando solicitada. r...  \n",
              "1      tarde, preço offline atualizando solicitada. r...  \n",
              "2      tarde, preço offline atualizando solicitada. r...  \n",
              "3      tarde, preço offline atualizando solicitada. r...  \n",
              "4      tarde, preço offline atualizando solicitada. r...  \n",
              "...                                                  ...  \n",
              "10692  caixa aviso, salvar baixa, operador feche salv...  \n",
              "10693  sistema caindo conexão oi, problemas conexão, ...  \n",
              "10694  reabrir reabiri verificamos toda infrestutura ...  \n",
              "10695  devolução cancelou cartao compra devolução cai...  \n",
              "10696                                  sistema iniciando  \n",
              "\n",
              "[10697 rows x 4 columns]"
            ],
            "text/html": [
              "\n",
              "\n",
              "  <div id=\"df-280fb2ef-cf22-40fc-af89-6e309d170206\">\n",
              "    <div class=\"colab-df-container\">\n",
              "      <div>\n",
              "<style scoped>\n",
              "    .dataframe tbody tr th:only-of-type {\n",
              "        vertical-align: middle;\n",
              "    }\n",
              "\n",
              "    .dataframe tbody tr th {\n",
              "        vertical-align: top;\n",
              "    }\n",
              "\n",
              "    .dataframe thead th {\n",
              "        text-align: right;\n",
              "    }\n",
              "</style>\n",
              "<table border=\"1\" class=\"dataframe\">\n",
              "  <thead>\n",
              "    <tr style=\"text-align: right;\">\n",
              "      <th></th>\n",
              "      <th>text</th>\n",
              "      <th>label</th>\n",
              "      <th>Desc_Assunto</th>\n",
              "      <th>Desc_BKP</th>\n",
              "    </tr>\n",
              "  </thead>\n",
              "  <tbody>\n",
              "    <tr>\n",
              "      <th>0</th>\n",
              "      <td>boa tarde, tudo bem preço offline não está atu...</td>\n",
              "      <td>Preço off-line</td>\n",
              "      <td>preco offline atualizando solicitada remarquei...</td>\n",
              "      <td>tarde, preço offline atualizando solicitada. r...</td>\n",
              "    </tr>\n",
              "    <tr>\n",
              "      <th>1</th>\n",
              "      <td>boa tarde, tudo bem preço offline não está atu...</td>\n",
              "      <td>Preço off-line</td>\n",
              "      <td>preco offline atualizando solicitada remarquei...</td>\n",
              "      <td>tarde, preço offline atualizando solicitada. r...</td>\n",
              "    </tr>\n",
              "    <tr>\n",
              "      <th>2</th>\n",
              "      <td>boa tarde, tudo bem preço offline não está atu...</td>\n",
              "      <td>Preço off-line</td>\n",
              "      <td>preco offline atualizando solicitada remarquei...</td>\n",
              "      <td>tarde, preço offline atualizando solicitada. r...</td>\n",
              "    </tr>\n",
              "    <tr>\n",
              "      <th>3</th>\n",
              "      <td>boa tarde, tudo bem preço offline não está atu...</td>\n",
              "      <td>Preço off-line</td>\n",
              "      <td>preco offline atualizando solicitada remarquei...</td>\n",
              "      <td>tarde, preço offline atualizando solicitada. r...</td>\n",
              "    </tr>\n",
              "    <tr>\n",
              "      <th>4</th>\n",
              "      <td>boa tarde, tudo bem preço offline não está atu...</td>\n",
              "      <td>Preço off-line</td>\n",
              "      <td>preco offline atualizando solicitada remarquei...</td>\n",
              "      <td>tarde, preço offline atualizando solicitada. r...</td>\n",
              "    </tr>\n",
              "    <tr>\n",
              "      <th>...</th>\n",
              "      <td>...</td>\n",
              "      <td>...</td>\n",
              "      <td>...</td>\n",
              "      <td>...</td>\n",
              "    </tr>\n",
              "    <tr>\n",
              "      <th>10692</th>\n",
              "      <td>incluir caixa de aviso, que há operação sem sa...</td>\n",
              "      <td>Financeiro</td>\n",
              "      <td>caixa aviso salvar baixa operador feche salvar...</td>\n",
              "      <td>caixa aviso, salvar baixa, operador feche salv...</td>\n",
              "    </tr>\n",
              "    <tr>\n",
              "      <th>10693</th>\n",
              "      <td>sistema caindo a conexão oi, boa tarde estamos...</td>\n",
              "      <td>Infra</td>\n",
              "      <td>sistema caindo conexao oi problemas conexao ca...</td>\n",
              "      <td>sistema caindo conexão oi, problemas conexão, ...</td>\n",
              "    </tr>\n",
              "    <tr>\n",
              "      <th>10694</th>\n",
              "      <td>reabrir chamado 479423 bom dia preciso reabiri...</td>\n",
              "      <td>Mobile Vendas</td>\n",
              "      <td>reabrir reabiri verificamos toda infrestutura ...</td>\n",
              "      <td>reabrir reabiri verificamos toda infrestutura ...</td>\n",
              "    </tr>\n",
              "    <tr>\n",
              "      <th>10695</th>\n",
              "      <td>devolução cancelou cartao da compra foi realiz...</td>\n",
              "      <td>Devolução de venda</td>\n",
              "      <td>devolucao cancelou cartao compra devolucao cai...</td>\n",
              "      <td>devolução cancelou cartao compra devolução cai...</td>\n",
              "    </tr>\n",
              "    <tr>\n",
              "      <th>10696</th>\n",
              "      <td>sistema nao esta iniciando</td>\n",
              "      <td>Infra</td>\n",
              "      <td>sistema iniciando</td>\n",
              "      <td>sistema iniciando</td>\n",
              "    </tr>\n",
              "  </tbody>\n",
              "</table>\n",
              "<p>10697 rows × 4 columns</p>\n",
              "</div>\n",
              "      <button class=\"colab-df-convert\" onclick=\"convertToInteractive('df-280fb2ef-cf22-40fc-af89-6e309d170206')\"\n",
              "              title=\"Convert this dataframe to an interactive table.\"\n",
              "              style=\"display:none;\">\n",
              "\n",
              "  <svg xmlns=\"http://www.w3.org/2000/svg\" height=\"24px\"viewBox=\"0 0 24 24\"\n",
              "       width=\"24px\">\n",
              "    <path d=\"M0 0h24v24H0V0z\" fill=\"none\"/>\n",
              "    <path d=\"M18.56 5.44l.94 2.06.94-2.06 2.06-.94-2.06-.94-.94-2.06-.94 2.06-2.06.94zm-11 1L8.5 8.5l.94-2.06 2.06-.94-2.06-.94L8.5 2.5l-.94 2.06-2.06.94zm10 10l.94 2.06.94-2.06 2.06-.94-2.06-.94-.94-2.06-.94 2.06-2.06.94z\"/><path d=\"M17.41 7.96l-1.37-1.37c-.4-.4-.92-.59-1.43-.59-.52 0-1.04.2-1.43.59L10.3 9.45l-7.72 7.72c-.78.78-.78 2.05 0 2.83L4 21.41c.39.39.9.59 1.41.59.51 0 1.02-.2 1.41-.59l7.78-7.78 2.81-2.81c.8-.78.8-2.07 0-2.86zM5.41 20L4 18.59l7.72-7.72 1.47 1.35L5.41 20z\"/>\n",
              "  </svg>\n",
              "      </button>\n",
              "\n",
              "\n",
              "\n",
              "    <div id=\"df-c84e425d-b2be-4776-89d2-d8bb304d7a46\">\n",
              "      <button class=\"colab-df-quickchart\" onclick=\"quickchart('df-c84e425d-b2be-4776-89d2-d8bb304d7a46')\"\n",
              "              title=\"Suggest charts.\"\n",
              "              style=\"display:none;\">\n",
              "\n",
              "<svg xmlns=\"http://www.w3.org/2000/svg\" height=\"24px\"viewBox=\"0 0 24 24\"\n",
              "     width=\"24px\">\n",
              "    <g>\n",
              "        <path d=\"M19 3H5c-1.1 0-2 .9-2 2v14c0 1.1.9 2 2 2h14c1.1 0 2-.9 2-2V5c0-1.1-.9-2-2-2zM9 17H7v-7h2v7zm4 0h-2V7h2v10zm4 0h-2v-4h2v4z\"/>\n",
              "    </g>\n",
              "</svg>\n",
              "      </button>\n",
              "    </div>\n",
              "\n",
              "<style>\n",
              "  .colab-df-quickchart {\n",
              "    background-color: #E8F0FE;\n",
              "    border: none;\n",
              "    border-radius: 50%;\n",
              "    cursor: pointer;\n",
              "    display: none;\n",
              "    fill: #1967D2;\n",
              "    height: 32px;\n",
              "    padding: 0 0 0 0;\n",
              "    width: 32px;\n",
              "  }\n",
              "\n",
              "  .colab-df-quickchart:hover {\n",
              "    background-color: #E2EBFA;\n",
              "    box-shadow: 0px 1px 2px rgba(60, 64, 67, 0.3), 0px 1px 3px 1px rgba(60, 64, 67, 0.15);\n",
              "    fill: #174EA6;\n",
              "  }\n",
              "\n",
              "  [theme=dark] .colab-df-quickchart {\n",
              "    background-color: #3B4455;\n",
              "    fill: #D2E3FC;\n",
              "  }\n",
              "\n",
              "  [theme=dark] .colab-df-quickchart:hover {\n",
              "    background-color: #434B5C;\n",
              "    box-shadow: 0px 1px 3px 1px rgba(0, 0, 0, 0.15);\n",
              "    filter: drop-shadow(0px 1px 2px rgba(0, 0, 0, 0.3));\n",
              "    fill: #FFFFFF;\n",
              "  }\n",
              "</style>\n",
              "\n",
              "    <script>\n",
              "      async function quickchart(key) {\n",
              "        const containerElement = document.querySelector('#' + key);\n",
              "        const charts = await google.colab.kernel.invokeFunction(\n",
              "            'suggestCharts', [key], {});\n",
              "      }\n",
              "    </script>\n",
              "\n",
              "      <script>\n",
              "\n",
              "function displayQuickchartButton(domScope) {\n",
              "  let quickchartButtonEl =\n",
              "    domScope.querySelector('#df-c84e425d-b2be-4776-89d2-d8bb304d7a46 button.colab-df-quickchart');\n",
              "  quickchartButtonEl.style.display =\n",
              "    google.colab.kernel.accessAllowed ? 'block' : 'none';\n",
              "}\n",
              "\n",
              "        displayQuickchartButton(document);\n",
              "      </script>\n",
              "      <style>\n",
              "    .colab-df-container {\n",
              "      display:flex;\n",
              "      flex-wrap:wrap;\n",
              "      gap: 12px;\n",
              "    }\n",
              "\n",
              "    .colab-df-convert {\n",
              "      background-color: #E8F0FE;\n",
              "      border: none;\n",
              "      border-radius: 50%;\n",
              "      cursor: pointer;\n",
              "      display: none;\n",
              "      fill: #1967D2;\n",
              "      height: 32px;\n",
              "      padding: 0 0 0 0;\n",
              "      width: 32px;\n",
              "    }\n",
              "\n",
              "    .colab-df-convert:hover {\n",
              "      background-color: #E2EBFA;\n",
              "      box-shadow: 0px 1px 2px rgba(60, 64, 67, 0.3), 0px 1px 3px 1px rgba(60, 64, 67, 0.15);\n",
              "      fill: #174EA6;\n",
              "    }\n",
              "\n",
              "    [theme=dark] .colab-df-convert {\n",
              "      background-color: #3B4455;\n",
              "      fill: #D2E3FC;\n",
              "    }\n",
              "\n",
              "    [theme=dark] .colab-df-convert:hover {\n",
              "      background-color: #434B5C;\n",
              "      box-shadow: 0px 1px 3px 1px rgba(0, 0, 0, 0.15);\n",
              "      filter: drop-shadow(0px 1px 2px rgba(0, 0, 0, 0.3));\n",
              "      fill: #FFFFFF;\n",
              "    }\n",
              "  </style>\n",
              "\n",
              "      <script>\n",
              "        const buttonEl =\n",
              "          document.querySelector('#df-280fb2ef-cf22-40fc-af89-6e309d170206 button.colab-df-convert');\n",
              "        buttonEl.style.display =\n",
              "          google.colab.kernel.accessAllowed ? 'block' : 'none';\n",
              "\n",
              "        async function convertToInteractive(key) {\n",
              "          const element = document.querySelector('#df-280fb2ef-cf22-40fc-af89-6e309d170206');\n",
              "          const dataTable =\n",
              "            await google.colab.kernel.invokeFunction('convertToInteractive',\n",
              "                                                     [key], {});\n",
              "          if (!dataTable) return;\n",
              "\n",
              "          const docLinkHtml = 'Like what you see? Visit the ' +\n",
              "            '<a target=\"_blank\" href=https://colab.research.google.com/notebooks/data_table.ipynb>data table notebook</a>'\n",
              "            + ' to learn more about interactive tables.';\n",
              "          element.innerHTML = '';\n",
              "          dataTable['output_type'] = 'display_data';\n",
              "          await google.colab.output.renderOutput(dataTable, element);\n",
              "          const docLink = document.createElement('div');\n",
              "          docLink.innerHTML = docLinkHtml;\n",
              "          element.appendChild(docLink);\n",
              "        }\n",
              "      </script>\n",
              "    </div>\n",
              "  </div>\n"
            ]
          },
          "metadata": {},
          "execution_count": 28
        }
      ]
    },
    {
      "cell_type": "code",
      "source": [
        "\n",
        "vectorizer = CountVectorizer(lowercase=True, stop_words=custom_stopwords)\n",
        "#data.dropna(subset=['Desc_Assunto'])\n",
        "X = vectorizer.fit_transform(data[\"Desc_Assunto\"])\n",
        "y = data[\"label\"]"
      ],
      "metadata": {
        "id": "LZdtQdiMVKnP"
      },
      "execution_count": 29,
      "outputs": []
    },
    {
      "cell_type": "code",
      "source": [
        "# train the model\n",
        "model = MultinomialNB()\n"
      ],
      "metadata": {
        "id": "69qJ9hNVVL0A"
      },
      "execution_count": 30,
      "outputs": []
    },
    {
      "cell_type": "code",
      "source": [
        "model.fit(X, y)"
      ],
      "metadata": {
        "colab": {
          "base_uri": "https://localhost:8080/",
          "height": 75
        },
        "id": "5r6tmV2HVM13",
        "outputId": "11612336-e8fc-44a5-c7b8-4edf6556ba74"
      },
      "execution_count": 31,
      "outputs": [
        {
          "output_type": "execute_result",
          "data": {
            "text/plain": [
              "MultinomialNB()"
            ],
            "text/html": [
              "<style>#sk-container-id-1 {color: black;background-color: white;}#sk-container-id-1 pre{padding: 0;}#sk-container-id-1 div.sk-toggleable {background-color: white;}#sk-container-id-1 label.sk-toggleable__label {cursor: pointer;display: block;width: 100%;margin-bottom: 0;padding: 0.3em;box-sizing: border-box;text-align: center;}#sk-container-id-1 label.sk-toggleable__label-arrow:before {content: \"▸\";float: left;margin-right: 0.25em;color: #696969;}#sk-container-id-1 label.sk-toggleable__label-arrow:hover:before {color: black;}#sk-container-id-1 div.sk-estimator:hover label.sk-toggleable__label-arrow:before {color: black;}#sk-container-id-1 div.sk-toggleable__content {max-height: 0;max-width: 0;overflow: hidden;text-align: left;background-color: #f0f8ff;}#sk-container-id-1 div.sk-toggleable__content pre {margin: 0.2em;color: black;border-radius: 0.25em;background-color: #f0f8ff;}#sk-container-id-1 input.sk-toggleable__control:checked~div.sk-toggleable__content {max-height: 200px;max-width: 100%;overflow: auto;}#sk-container-id-1 input.sk-toggleable__control:checked~label.sk-toggleable__label-arrow:before {content: \"▾\";}#sk-container-id-1 div.sk-estimator input.sk-toggleable__control:checked~label.sk-toggleable__label {background-color: #d4ebff;}#sk-container-id-1 div.sk-label input.sk-toggleable__control:checked~label.sk-toggleable__label {background-color: #d4ebff;}#sk-container-id-1 input.sk-hidden--visually {border: 0;clip: rect(1px 1px 1px 1px);clip: rect(1px, 1px, 1px, 1px);height: 1px;margin: -1px;overflow: hidden;padding: 0;position: absolute;width: 1px;}#sk-container-id-1 div.sk-estimator {font-family: monospace;background-color: #f0f8ff;border: 1px dotted black;border-radius: 0.25em;box-sizing: border-box;margin-bottom: 0.5em;}#sk-container-id-1 div.sk-estimator:hover {background-color: #d4ebff;}#sk-container-id-1 div.sk-parallel-item::after {content: \"\";width: 100%;border-bottom: 1px solid gray;flex-grow: 1;}#sk-container-id-1 div.sk-label:hover label.sk-toggleable__label {background-color: #d4ebff;}#sk-container-id-1 div.sk-serial::before {content: \"\";position: absolute;border-left: 1px solid gray;box-sizing: border-box;top: 0;bottom: 0;left: 50%;z-index: 0;}#sk-container-id-1 div.sk-serial {display: flex;flex-direction: column;align-items: center;background-color: white;padding-right: 0.2em;padding-left: 0.2em;position: relative;}#sk-container-id-1 div.sk-item {position: relative;z-index: 1;}#sk-container-id-1 div.sk-parallel {display: flex;align-items: stretch;justify-content: center;background-color: white;position: relative;}#sk-container-id-1 div.sk-item::before, #sk-container-id-1 div.sk-parallel-item::before {content: \"\";position: absolute;border-left: 1px solid gray;box-sizing: border-box;top: 0;bottom: 0;left: 50%;z-index: -1;}#sk-container-id-1 div.sk-parallel-item {display: flex;flex-direction: column;z-index: 1;position: relative;background-color: white;}#sk-container-id-1 div.sk-parallel-item:first-child::after {align-self: flex-end;width: 50%;}#sk-container-id-1 div.sk-parallel-item:last-child::after {align-self: flex-start;width: 50%;}#sk-container-id-1 div.sk-parallel-item:only-child::after {width: 0;}#sk-container-id-1 div.sk-dashed-wrapped {border: 1px dashed gray;margin: 0 0.4em 0.5em 0.4em;box-sizing: border-box;padding-bottom: 0.4em;background-color: white;}#sk-container-id-1 div.sk-label label {font-family: monospace;font-weight: bold;display: inline-block;line-height: 1.2em;}#sk-container-id-1 div.sk-label-container {text-align: center;}#sk-container-id-1 div.sk-container {/* jupyter's `normalize.less` sets `[hidden] { display: none; }` but bootstrap.min.css set `[hidden] { display: none !important; }` so we also need the `!important` here to be able to override the default hidden behavior on the sphinx rendered scikit-learn.org. See: https://github.com/scikit-learn/scikit-learn/issues/21755 */display: inline-block !important;position: relative;}#sk-container-id-1 div.sk-text-repr-fallback {display: none;}</style><div id=\"sk-container-id-1\" class=\"sk-top-container\"><div class=\"sk-text-repr-fallback\"><pre>MultinomialNB()</pre><b>In a Jupyter environment, please rerun this cell to show the HTML representation or trust the notebook. <br />On GitHub, the HTML representation is unable to render, please try loading this page with nbviewer.org.</b></div><div class=\"sk-container\" hidden><div class=\"sk-item\"><div class=\"sk-estimator sk-toggleable\"><input class=\"sk-toggleable__control sk-hidden--visually\" id=\"sk-estimator-id-1\" type=\"checkbox\" checked><label for=\"sk-estimator-id-1\" class=\"sk-toggleable__label sk-toggleable__label-arrow\">MultinomialNB</label><div class=\"sk-toggleable__content\"><pre>MultinomialNB()</pre></div></div></div></div></div>"
            ]
          },
          "metadata": {},
          "execution_count": 31
        }
      ]
    },
    {
      "cell_type": "code",
      "source": [
        "# save the model to a file\n",
        "import pickle\n",
        "with open(\"classification_model.pkl\", \"wb\") as f:\n",
        "    pickle.dump(model, f)\n",
        "\n",
        "vec_file = 'vectorizer.pickle'\n",
        "pickle.dump(vectorizer, open(vec_file, 'wb'))"
      ],
      "metadata": {
        "id": "nhYnXdiOVNvf"
      },
      "execution_count": 32,
      "outputs": []
    },
    {
      "cell_type": "code",
      "source": [
        "loaded_vectorizer = pickle.load(open('vectorizer.pickle', 'rb'))\n"
      ],
      "metadata": {
        "id": "feKYavFAVOtP"
      },
      "execution_count": 33,
      "outputs": []
    },
    {
      "cell_type": "code",
      "source": [
        "# Carregar modelo jÃ¡ treinado\n",
        "with open('classification_model.pkl', 'rb') as f:\n",
        "    modelo = pickle.load(f)"
      ],
      "metadata": {
        "id": "ZU-05TFOVPlQ"
      },
      "execution_count": 34,
      "outputs": []
    },
    {
      "cell_type": "code",
      "source": [
        "test_data_transformed = loaded_vectorizer.transform([\"bom dia foi lançada a nfe no dia , não estou conseguindo autorizar....diz que ela foi duplicada. já tentei limpar a chave dela e não deu certo. preciso que vc autorize ela por gentileza, com urgência pois amanhã é o nosso fechamento. fico no aguardo de um retorno . obrigada nfe eco terminal\"])\n",
        "test_data_transformed"
      ],
      "metadata": {
        "id": "KV6snY8KVQlg",
        "colab": {
          "base_uri": "https://localhost:8080/",
          "height": 0
        },
        "outputId": "c885a20e-f18d-4768-d879-1bd8d298cc60"
      },
      "execution_count": 35,
      "outputs": [
        {
          "output_type": "execute_result",
          "data": {
            "text/plain": [
              "<1x8047 sparse matrix of type '<class 'numpy.int64'>'\n",
              "\twith 10 stored elements in Compressed Sparse Row format>"
            ]
          },
          "metadata": {},
          "execution_count": 35
        }
      ]
    },
    {
      "cell_type": "code",
      "source": [
        "teste =  [input()]\n",
        "\n",
        "tickets_novos = pd.DataFrame(teste, columns=['assunto'])\n",
        "\n",
        "tickets_novos['assunto'] = tickets_novos['assunto'].str.lower()\n",
        "\n",
        "# remove URL's from train and test\n",
        "tickets_novos['assunto'] = tickets_novos['assunto'].apply(lambda x: re.sub(r'http\\S+', '', x))\n",
        "###tickets_novos['assunto'] = tickets_novos['assunto'].apply(remover_stopwords)\n",
        "#tickets_novos['assunto'] = tickets_novos['assunto'].apply(clean_text)\n",
        "\n",
        "# test['clean_tweet'] = test['tweet'].apply(lambda x: re.sub(r'http\\S+', '', x))\n",
        "# remove punctuation marks\n",
        "punctuation = '!\"#$%&()*+-/:;<=>?@[\\\\]^_`{|}~'\n",
        "\n",
        "tickets_novos['assunto'] = tickets_novos['assunto'].apply(lambda x: ''.join(ch for ch in x if ch not in set(punctuation)))\n",
        "# test['clean_tweet'] = test['clean_tweet'].apply(lambda x: ''.join(ch for ch in x if ch not in set(punctuation)))\n",
        "\n",
        "# convert text to lowercase\n",
        "tickets_novos['assunto'] = tickets_novos['assunto'].str.lower()\n",
        "# test['clean_tweet'] = test['clean_tweet'].str.lower()\n",
        "\n",
        "# remove numbers\n",
        "# tickets_novos['assunto'] = tickets_novos['assunto'].str.replace(\"[0-9]\", \" \")\n",
        "# test['clean_tweet'] = test['clean_tweet'].str.replace(\"[0-9]\", \" \")\n",
        "\n",
        "# remove whitespaces\n",
        "tickets_novos['assunto'] = tickets_novos['assunto'].apply(lambda x: ' '.join(x.split()))\n",
        "# test['clean_tweet'] = test['clean_tweet'].apply(lambda x: ' '.join(x.split()))\n",
        "\n",
        "\n",
        "tickets_novos['assunto'] = tickets_novos['assunto'].apply(lambda x: remover_stopwords(x))\n",
        "\n",
        "\n",
        "\n",
        "test_data_transformed = loaded_vectorizer.transform(tickets_novos['assunto'])\n",
        "predicted_categories = modelo.predict(test_data_transformed)\n",
        "categoria = predicted_categories\n",
        "print(categoria)\n",
        "print(tickets_novos['assunto'])"
      ],
      "metadata": {
        "colab": {
          "base_uri": "https://localhost:8080/",
          "height": 0
        },
        "id": "AcxI2hiSVRvm",
        "outputId": "8ef7c44f-65d0-4608-ec9f-88f2907c59d2"
      },
      "execution_count": 61,
      "outputs": [
        {
          "output_type": "stream",
          "name": "stdout",
          "text": [
            "urgente alteração na configuração de impostos todas as notas emitidas depois do dia 1807 ficaram sem a dedução do icms da base do cofins. conferindo a auditoria localizamos as seguintes alterações. precisamos saber quem fez essas alterações e se foi solicitado por alguém. precisamos também que seja apresentada uma solução para alterar esses registros, da forma como ficaram estão incorretos, e não temos pessoal e condições de alterar todas as venda que foram feitas no período só no dia de hoje 2707 que percebemos essa situação.\n",
            "['Cadastro Tributação/Imposto']\n",
            "0    configuração impostos notas emitidas 1807 fica...\n",
            "Name: assunto, dtype: object\n"
          ]
        }
      ]
    },
    {
      "cell_type": "code",
      "source": [
        "ssem sistema bom dia estamos sem faturamento .from google.colab import drive\n",
        "drive.mount('/content/drive')"
      ],
      "metadata": {
        "colab": {
          "base_uri": "https://localhost:8080/"
        },
        "id": "Uh8uhkpVriph",
        "outputId": "a8b588d1-de5e-4c1e-ce16-7b147c0a8fe3"
      },
      "execution_count": null,
      "outputs": [
        {
          "output_type": "stream",
          "name": "stdout",
          "text": [
            "Mounted at /content/drive\n"
          ]
        }
      ]
    },
    {
      "cell_type": "code",
      "source": [
        "olá, boa tarde nossa contabilidade nos comunicou que ocorreram alguns erros no arquivo no ecf da loja graciki, referente ao mês . em anexo os registros em que ocorreram os erros. poderiam verificar esses erros e nos dar um retorno atenciosamente angelita erro ecf graciki"
      ],
      "metadata": {
        "id": "Re-GK9_MVTXg"
      },
      "execution_count": null,
      "outputs": []
    }
  ]
}